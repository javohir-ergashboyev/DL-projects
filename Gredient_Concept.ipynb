{
  "nbformat": 4,
  "nbformat_minor": 0,
  "metadata": {
    "colab": {
      "provenance": [],
      "authorship_tag": "ABX9TyPRJKa6uJ6HJ1Nd4L1DPz7d",
      "include_colab_link": true
    },
    "kernelspec": {
      "name": "python3",
      "display_name": "Python 3"
    },
    "language_info": {
      "name": "python"
    }
  },
  "cells": [
    {
      "cell_type": "markdown",
      "metadata": {
        "id": "view-in-github",
        "colab_type": "text"
      },
      "source": [
        "<a href=\"https://colab.research.google.com/github/javohir-ergashboyev/DL-projects/blob/main/Gredient_Concept.ipynb\" target=\"_parent\"><img src=\"https://colab.research.google.com/assets/colab-badge.svg\" alt=\"Open In Colab\"/></a>"
      ]
    },
    {
      "cell_type": "code",
      "source": [
        "import torch\n",
        "import matplotlib.pyplot as plt\n",
        "%matplotlib inline"
      ],
      "metadata": {
        "id": "mcN3iP1oIh3U"
      },
      "execution_count": 5,
      "outputs": []
    },
    {
      "cell_type": "code",
      "execution_count": 4,
      "metadata": {
        "colab": {
          "base_uri": "https://localhost:8080/"
        },
        "id": "SGWnJruUIERJ",
        "outputId": "d455dcf9-a438-4d43-db2e-9985ffd3af0c"
      },
      "outputs": [
        {
          "output_type": "execute_result",
          "data": {
            "text/plain": [
              "tensor([ 0.,  1.,  2.,  3.,  4.,  5.,  6.,  7.,  8.,  9., 10., 11., 12., 13.,\n",
              "        14., 15., 16., 17., 18., 19.])"
            ]
          },
          "metadata": {},
          "execution_count": 4
        }
      ],
      "source": [
        "time=torch.arange(0,20).float()\n",
        "time"
      ]
    },
    {
      "cell_type": "code",
      "source": [
        "speed=torch.randn(20)*2+0.75*(time-9.5)**2+1\n",
        "\n",
        "plt.figure(figsize=(4,3))\n",
        "plt.scatter(time, speed)\n",
        "plt.xlabel('time')\n",
        "plt.ylabel('speed')\n",
        "plt.show()"
      ],
      "metadata": {
        "colab": {
          "base_uri": "https://localhost:8080/",
          "height": 311
        },
        "id": "FAgyUbMDIdwK",
        "outputId": "e8bbeee8-30c0-4271-b715-23ca4493411d"
      },
      "execution_count": 10,
      "outputs": [
        {
          "output_type": "display_data",
          "data": {
            "text/plain": [
              "<Figure size 400x300 with 1 Axes>"
            ],
            "image/png": "[encoded data removed]"
          },
          "metadata": {}
        }
      ]
    },
    {
      "cell_type": "code",
      "source": [
        "\n",
        "def plot_show(pred):\n",
        "  plt.figure(figsize=(4,3))\n",
        "  plt.scatter(time, speed)\n",
        "  plt.scatter(time, pred)\n",
        "  plt.xlabel('time')\n",
        "  plt.ylabel('speed')\n",
        "  plt.show()"
      ],
      "metadata": {
        "id": "4PS70xNMK3co"
      },
      "execution_count": 38,
      "outputs": []
    },
    {
      "cell_type": "code",
      "source": [
        "def f(params):\n",
        "  a,b,c=params\n",
        "  return a*(time**2)+(b*time)+c"
      ],
      "metadata": {
        "id": "7By7HvutJMg8"
      },
      "execution_count": 30,
      "outputs": []
    },
    {
      "cell_type": "code",
      "source": [
        "def mse(preds, target):\n",
        "  return ((target-preds)**2).mean()"
      ],
      "metadata": {
        "id": "dIRAvmkMJ7ze"
      },
      "execution_count": 31,
      "outputs": []
    },
    {
      "cell_type": "code",
      "source": [
        "param=torch.randn(3).requires_grad_()\n",
        "param"
      ],
      "metadata": {
        "colab": {
          "base_uri": "https://localhost:8080/"
        },
        "id": "tBM4pzqcKLfb",
        "outputId": "d3085305-9524-43d8-c87a-bb1609db542c"
      },
      "execution_count": 32,
      "outputs": [
        {
          "output_type": "execute_result",
          "data": {
            "text/plain": [
              "tensor([-0.3925,  0.0813,  0.3531], requires_grad=True)"
            ]
          },
          "metadata": {},
          "execution_count": 32
        }
      ]
    },
    {
      "cell_type": "code",
      "source": [
        "pred=f(param)"
      ],
      "metadata": {
        "id": "aJTyXnW9KbjN"
      },
      "execution_count": 33,
      "outputs": []
    },
    {
      "cell_type": "code",
      "source": [
        "loss=mse(pred,speed)\n",
        "loss"
      ],
      "metadata": {
        "colab": {
          "base_uri": "https://localhost:8080/"
        },
        "id": "hzwpqKZAKo58",
        "outputId": "cdcdcd64-436f-41ef-c134-16d8a6d61c82"
      },
      "execution_count": 44,
      "outputs": [
        {
          "output_type": "execute_result",
          "data": {
            "text/plain": [
              "tensor(8370.7744, grad_fn=<MeanBackward0>)"
            ]
          },
          "metadata": {},
          "execution_count": 44
        }
      ]
    },
    {
      "cell_type": "code",
      "source": [
        "plot_show(pred.detach().numpy())"
      ],
      "metadata": {
        "colab": {
          "base_uri": "https://localhost:8080/",
          "height": 311
        },
        "id": "Vk10IRUCLfph",
        "outputId": "38fa9b3a-0065-4c13-e0bb-d0ffe9db2abb"
      },
      "execution_count": 39,
      "outputs": [
        {
          "output_type": "display_data",
          "data": {
            "text/plain": [
              "<Figure size 400x300 with 1 Axes>"
            ],
            "image/png": "[encoded data removed]"
          },
          "metadata": {}
        }
      ]
    },
    {
      "cell_type": "code",
      "source": [
        "\n",
        "param.grad"
      ],
      "metadata": {
        "colab": {
          "base_uri": "https://localhost:8080/"
        },
        "id": "TpsMG_yLOFFo",
        "outputId": "bcf2fd89-bf51-47c8-e0cb-b76fae5b8076"
      },
      "execution_count": 46,
      "outputs": [
        {
          "output_type": "execute_result",
          "data": {
            "text/plain": [
              "tensor([-29534.4609,  -1889.5457,   -146.7955])"
            ]
          },
          "metadata": {},
          "execution_count": 46
        }
      ]
    },
    {
      "cell_type": "code",
      "source": [
        "lr=1e-5\n",
        "param.data=lr*param.grad.data\n",
        "param.grad=None"
      ],
      "metadata": {
        "id": "cvLdBVCBOIlP"
      },
      "execution_count": 47,
      "outputs": []
    },
    {
      "cell_type": "code",
      "source": [
        "pred=f(param)\n",
        "print(mse(pred,speed))\n",
        "plot_show(pred.detach().numpy())"
      ],
      "metadata": {
        "colab": {
          "base_uri": "https://localhost:8080/",
          "height": 328
        },
        "id": "y3gdVseUOvL6",
        "outputId": "bfead069-e700-4849-8ecd-b83089008189"
      },
      "execution_count": 49,
      "outputs": [
        {
          "output_type": "stream",
          "name": "stdout",
          "text": [
            "tensor(5967.4248, grad_fn=<MeanBackward0>)\n"
          ]
        },
        {
          "output_type": "display_data",
          "data": {
            "text/plain": [
              "<Figure size 400x300 with 1 Axes>"
            ],
            "image/png": "[encoded data removed]"
          },
          "metadata": {}
        }
      ]
    },
    {
      "cell_type": "code",
      "source": [
        "def loop_steps(param):\n",
        "  pred=f(param)\n",
        "  loss=mse(pred,speed)\n",
        "  loss.backward()\n",
        "  param.data=lr*param.grad.data\n",
        "  param.grad=None\n",
        "  print(loss)\n",
        "  return pred"
      ],
      "metadata": {
        "id": "7Ois9gsEO_iM"
      },
      "execution_count": 50,
      "outputs": []
    },
    {
      "cell_type": "code",
      "source": [
        "for i in range(100):\n",
        "  loop_steps(param)"
      ],
      "metadata": {
        "colab": {
          "base_uri": "https://localhost:8080/"
        },
        "id": "3XaH7Z3yQI26",
        "outputId": "27e1fb1b-af54-47e0-f4d0-a2c1f69c81ad"
      },
      "execution_count": 52,
      "outputs": [
        {
          "output_type": "stream",
          "name": "stdout",
          "text": [
            "tensor(3512.8352, grad_fn=<MeanBackward0>)\n",
            "tensor(3509.8269, grad_fn=<MeanBackward0>)\n",
            "tensor(3508.1284, grad_fn=<MeanBackward0>)\n",
            "tensor(3507.1685, grad_fn=<MeanBackward0>)\n",
            "tensor(3506.6265, grad_fn=<MeanBackward0>)\n",
            "tensor(3506.3203, grad_fn=<MeanBackward0>)\n",
            "tensor(3506.1470, grad_fn=<MeanBackward0>)\n",
            "tensor(3506.0493, grad_fn=<MeanBackward0>)\n",
            "tensor(3505.9934, grad_fn=<MeanBackward0>)\n",
            "tensor(3505.9629, grad_fn=<MeanBackward0>)\n",
            "tensor(3505.9448, grad_fn=<MeanBackward0>)\n",
            "tensor(3505.9351, grad_fn=<MeanBackward0>)\n",
            "tensor(3505.9302, grad_fn=<MeanBackward0>)\n",
            "tensor(3505.9263, grad_fn=<MeanBackward0>)\n",
            "tensor(3505.9246, grad_fn=<MeanBackward0>)\n",
            "tensor(3505.9231, grad_fn=<MeanBackward0>)\n",
            "tensor(3505.9231, grad_fn=<MeanBackward0>)\n",
            "tensor(3505.9231, grad_fn=<MeanBackward0>)\n",
            "tensor(3505.9231, grad_fn=<MeanBackward0>)\n",
            "tensor(3505.9231, grad_fn=<MeanBackward0>)\n",
            "tensor(3505.9231, grad_fn=<MeanBackward0>)\n",
            "tensor(3505.9231, grad_fn=<MeanBackward0>)\n",
            "tensor(3505.9231, grad_fn=<MeanBackward0>)\n",
            "tensor(3505.9231, grad_fn=<MeanBackward0>)\n",
            "tensor(3505.9231, grad_fn=<MeanBackward0>)\n",
            "tensor(3505.9231, grad_fn=<MeanBackward0>)\n",
            "tensor(3505.9231, grad_fn=<MeanBackward0>)\n",
            "tensor(3505.9231, grad_fn=<MeanBackward0>)\n",
            "tensor(3505.9231, grad_fn=<MeanBackward0>)\n",
            "tensor(3505.9231, grad_fn=<MeanBackward0>)\n",
            "tensor(3505.9231, grad_fn=<MeanBackward0>)\n",
            "tensor(3505.9231, grad_fn=<MeanBackward0>)\n",
            "tensor(3505.9231, grad_fn=<MeanBackward0>)\n",
            "tensor(3505.9231, grad_fn=<MeanBackward0>)\n",
            "tensor(3505.9231, grad_fn=<MeanBackward0>)\n",
            "tensor(3505.9231, grad_fn=<MeanBackward0>)\n",
            "tensor(3505.9231, grad_fn=<MeanBackward0>)\n",
            "tensor(3505.9231, grad_fn=<MeanBackward0>)\n",
            "tensor(3505.9231, grad_fn=<MeanBackward0>)\n",
            "tensor(3505.9231, grad_fn=<MeanBackward0>)\n",
            "tensor(3505.9231, grad_fn=<MeanBackward0>)\n",
            "tensor(3505.9231, grad_fn=<MeanBackward0>)\n",
            "tensor(3505.9231, grad_fn=<MeanBackward0>)\n",
            "tensor(3505.9231, grad_fn=<MeanBackward0>)\n",
            "tensor(3505.9231, grad_fn=<MeanBackward0>)\n",
            "tensor(3505.9231, grad_fn=<MeanBackward0>)\n",
            "tensor(3505.9231, grad_fn=<MeanBackward0>)\n",
            "tensor(3505.9231, grad_fn=<MeanBackward0>)\n",
            "tensor(3505.9231, grad_fn=<MeanBackward0>)\n",
            "tensor(3505.9231, grad_fn=<MeanBackward0>)\n",
            "tensor(3505.9231, grad_fn=<MeanBackward0>)\n",
            "tensor(3505.9231, grad_fn=<MeanBackward0>)\n",
            "tensor(3505.9231, grad_fn=<MeanBackward0>)\n",
            "tensor(3505.9231, grad_fn=<MeanBackward0>)\n",
            "tensor(3505.9231, grad_fn=<MeanBackward0>)\n",
            "tensor(3505.9231, grad_fn=<MeanBackward0>)\n",
            "tensor(3505.9231, grad_fn=<MeanBackward0>)\n",
            "tensor(3505.9231, grad_fn=<MeanBackward0>)\n",
            "tensor(3505.9231, grad_fn=<MeanBackward0>)\n",
            "tensor(3505.9231, grad_fn=<MeanBackward0>)\n",
            "tensor(3505.9231, grad_fn=<MeanBackward0>)\n",
            "tensor(3505.9231, grad_fn=<MeanBackward0>)\n",
            "tensor(3505.9231, grad_fn=<MeanBackward0>)\n",
            "tensor(3505.9231, grad_fn=<MeanBackward0>)\n",
            "tensor(3505.9231, grad_fn=<MeanBackward0>)\n",
            "tensor(3505.9231, grad_fn=<MeanBackward0>)\n",
            "tensor(3505.9231, grad_fn=<MeanBackward0>)\n",
            "tensor(3505.9231, grad_fn=<MeanBackward0>)\n",
            "tensor(3505.9231, grad_fn=<MeanBackward0>)\n",
            "tensor(3505.9231, grad_fn=<MeanBackward0>)\n",
            "tensor(3505.9231, grad_fn=<MeanBackward0>)\n",
            "tensor(3505.9231, grad_fn=<MeanBackward0>)\n",
            "tensor(3505.9231, grad_fn=<MeanBackward0>)\n",
            "tensor(3505.9231, grad_fn=<MeanBackward0>)\n",
            "tensor(3505.9231, grad_fn=<MeanBackward0>)\n",
            "tensor(3505.9231, grad_fn=<MeanBackward0>)\n",
            "tensor(3505.9231, grad_fn=<MeanBackward0>)\n",
            "tensor(3505.9231, grad_fn=<MeanBackward0>)\n",
            "tensor(3505.9231, grad_fn=<MeanBackward0>)\n",
            "tensor(3505.9231, grad_fn=<MeanBackward0>)\n",
            "tensor(3505.9231, grad_fn=<MeanBackward0>)\n",
            "tensor(3505.9231, grad_fn=<MeanBackward0>)\n",
            "tensor(3505.9231, grad_fn=<MeanBackward0>)\n",
            "tensor(3505.9231, grad_fn=<MeanBackward0>)\n",
            "tensor(3505.9231, grad_fn=<MeanBackward0>)\n",
            "tensor(3505.9231, grad_fn=<MeanBackward0>)\n",
            "tensor(3505.9231, grad_fn=<MeanBackward0>)\n",
            "tensor(3505.9231, grad_fn=<MeanBackward0>)\n",
            "tensor(3505.9231, grad_fn=<MeanBackward0>)\n",
            "tensor(3505.9231, grad_fn=<MeanBackward0>)\n",
            "tensor(3505.9231, grad_fn=<MeanBackward0>)\n",
            "tensor(3505.9231, grad_fn=<MeanBackward0>)\n",
            "tensor(3505.9231, grad_fn=<MeanBackward0>)\n",
            "tensor(3505.9231, grad_fn=<MeanBackward0>)\n",
            "tensor(3505.9231, grad_fn=<MeanBackward0>)\n",
            "tensor(3505.9231, grad_fn=<MeanBackward0>)\n",
            "tensor(3505.9231, grad_fn=<MeanBackward0>)\n",
            "tensor(3505.9231, grad_fn=<MeanBackward0>)\n",
            "tensor(3505.9231, grad_fn=<MeanBackward0>)\n",
            "tensor(3505.9231, grad_fn=<MeanBackward0>)\n"
          ]
        }
      ]
    },
    {
      "cell_type": "code",
      "source": [],
      "metadata": {
        "id": "T37QqBTbQSrl"
      },
      "execution_count": null,
      "outputs": []
    }
  ]
}