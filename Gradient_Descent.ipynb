{
  "nbformat": 4,
  "nbformat_minor": 0,
  "metadata": {
    "colab": {
      "provenance": [],
      "authorship_tag": "ABX9TyNBjz8tIs/RkHaFs7BvBhN5",
      "include_colab_link": true
    },
    "kernelspec": {
      "name": "python3",
      "display_name": "Python 3"
    },
    "language_info": {
      "name": "python"
    }
  },
  "cells": [
    {
      "cell_type": "markdown",
      "metadata": {
        "id": "view-in-github",
        "colab_type": "text"
      },
      "source": [
        "<a href=\"https://colab.research.google.com/github/javohir-ergashboyev/DL-projects/blob/main/Gradient_Descent.ipynb\" target=\"_parent\"><img src=\"https://colab.research.google.com/assets/colab-badge.svg\" alt=\"Open In Colab\"/></a>"
      ]
    },
    {
      "cell_type": "code",
      "execution_count": 1,
      "metadata": {
        "id": "ftg0NZnptCqK"
      },
      "outputs": [],
      "source": [
        "import numpy as np\n",
        "import math"
      ]
    },
    {
      "cell_type": "code",
      "source": [
        "x=np.array([92,56,88,70,80,49,65,35,66,67])\n",
        "y=np.array([98,68,81,80,83,52,66,30,68,73])"
      ],
      "metadata": {
        "id": "-uals6hitJhk"
      },
      "execution_count": 2,
      "outputs": []
    },
    {
      "cell_type": "code",
      "source": [
        "# m and b corficient and intercept y=m*x+b. In this function we will calculate\n",
        "##optimal values for these two variables using gradient descent algoritm\n",
        "def gradient_descent(x, y):\n",
        "  m=b=0 #first random selected values\n",
        "  iteration=45 # iteration for loop\n",
        "  lr=0.00002 #learning rate\n",
        "  n=len(x)\n",
        "  for i in range(iteration):\n",
        "    y_predict=m*x+b\n",
        "    cost=(1/n)*sum([val**2 for val in (y-y_predict)])\n",
        "    m_d=-(2/n)*sum(x*(y-y_predict))\n",
        "    b_d=-(2/n)*sum(y-y_predict)\n",
        "    m=m-m_d*lr\n",
        "    b=b-b_d*lr\n",
        "    print('m={:.4f},  b={:.4f},  cost={:.4f},  i={}'.format(m,b,cost, i))\n",
        "gradient_descent(x, y)"
      ],
      "metadata": {
        "colab": {
          "base_uri": "https://localhost:8080/"
        },
        "id": "DQ7aAMk7tjoR",
        "outputId": "8a1b108d-1efb-4ac4-f0c2-5f3a1dce04f7"
      },
      "execution_count": 44,
      "outputs": [
        {
          "output_type": "stream",
          "name": "stdout",
          "text": [
            "m=0.1978,  b=0.0028,  cost=5199.1000,  i=0\n",
            "m=0.3582,  b=0.0051,  cost=3427.1133,  i=1\n",
            "m=0.4882,  b=0.0069,  cost=2262.7832,  i=2\n",
            "m=0.5936,  b=0.0084,  cost=1497.7298,  i=3\n",
            "m=0.6790,  b=0.0096,  cost=995.0315,  i=4\n",
            "m=0.7482,  b=0.0106,  cost=664.7204,  i=5\n",
            "m=0.8043,  b=0.0114,  cost=447.6809,  i=6\n",
            "m=0.8498,  b=0.0120,  cost=305.0695,  i=7\n",
            "m=0.8867,  b=0.0126,  cost=211.3629,  i=8\n",
            "m=0.9166,  b=0.0130,  cost=149.7905,  i=9\n",
            "m=0.9408,  b=0.0133,  cost=109.3328,  i=10\n",
            "m=0.9605,  b=0.0136,  cost=82.7490,  i=11\n",
            "m=0.9764,  b=0.0138,  cost=65.2814,  i=12\n",
            "m=0.9893,  b=0.0140,  cost=53.8039,  i=13\n",
            "m=0.9998,  b=0.0142,  cost=46.2623,  i=14\n",
            "m=1.0083,  b=0.0143,  cost=41.3069,  i=15\n",
            "m=1.0151,  b=0.0144,  cost=38.0508,  i=16\n",
            "m=1.0207,  b=0.0145,  cost=35.9113,  i=17\n",
            "m=1.0252,  b=0.0145,  cost=34.5055,  i=18\n",
            "m=1.0289,  b=0.0146,  cost=33.5818,  i=19\n",
            "m=1.0318,  b=0.0147,  cost=32.9748,  i=20\n",
            "m=1.0343,  b=0.0147,  cost=32.5760,  i=21\n",
            "m=1.0362,  b=0.0147,  cost=32.3140,  i=22\n",
            "m=1.0378,  b=0.0147,  cost=32.1418,  i=23\n",
            "m=1.0391,  b=0.0148,  cost=32.0286,  i=24\n",
            "m=1.0401,  b=0.0148,  cost=31.9543,  i=25\n",
            "m=1.0409,  b=0.0148,  cost=31.9054,  i=26\n",
            "m=1.0416,  b=0.0148,  cost=31.8733,  i=27\n",
            "m=1.0422,  b=0.0148,  cost=31.8522,  i=28\n",
            "m=1.0426,  b=0.0148,  cost=31.8384,  i=29\n",
            "m=1.0430,  b=0.0149,  cost=31.8293,  i=30\n",
            "m=1.0433,  b=0.0149,  cost=31.8233,  i=31\n",
            "m=1.0435,  b=0.0149,  cost=31.8194,  i=32\n",
            "m=1.0437,  b=0.0149,  cost=31.8168,  i=33\n",
            "m=1.0439,  b=0.0149,  cost=31.8151,  i=34\n",
            "m=1.0440,  b=0.0149,  cost=31.8140,  i=35\n",
            "m=1.0441,  b=0.0149,  cost=31.8132,  i=36\n",
            "m=1.0442,  b=0.0149,  cost=31.8127,  i=37\n",
            "m=1.0443,  b=0.0149,  cost=31.8124,  i=38\n",
            "m=1.0443,  b=0.0149,  cost=31.8122,  i=39\n",
            "m=1.0444,  b=0.0149,  cost=31.8121,  i=40\n",
            "m=1.0444,  b=0.0149,  cost=31.8120,  i=41\n",
            "m=1.0444,  b=0.0149,  cost=31.8119,  i=42\n",
            "m=1.0444,  b=0.0149,  cost=31.8119,  i=43\n",
            "m=1.0445,  b=0.0149,  cost=31.8119,  i=44\n"
          ]
        }
      ]
    },
    {
      "cell_type": "code",
      "source": [],
      "metadata": {
        "id": "gDalaZHBtykP"
      },
      "execution_count": null,
      "outputs": []
    }
  ]
}