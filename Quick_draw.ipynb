{
  "cells": [
    {
      "cell_type": "markdown",
      "metadata": {
        "id": "view-in-github",
        "colab_type": "text"
      },
      "source": [
        "<a href=\"https://colab.research.google.com/github/javohir-ergashboyev/DL-projects/blob/main/Quick_draw.ipynb\" target=\"_parent\"><img src=\"https://colab.research.google.com/assets/colab-badge.svg\" alt=\"Open In Colab\"/></a>"
      ]
    },
    {
      "cell_type": "code",
      "execution_count": 1,
      "metadata": {
        "id": "xvAyOP48Nakc"
      },
      "outputs": [],
      "source": [
        "import numpy as np\n",
        "import matplotlib.pyplot as plt\n",
        "%matplotlib inline"
      ]
    },
    {
      "cell_type": "code",
      "execution_count": 2,
      "metadata": {
        "id": "DIZQSh_rS2vU"
      },
      "outputs": [],
      "source": [
        "apple=np.load('apple.npy')\n",
        "banana=np.load('banana.npy')\n",
        "basket=np.load('basket.npy')\n",
        "book=np.load('book.npy')"
      ]
    },
    {
      "cell_type": "code",
      "execution_count": 3,
      "metadata": {
        "id": "2RoyQj6sTGC6"
      },
      "outputs": [],
      "source": [
        "label_dict={\n",
        "    'apple':0,\n",
        "    'banana':1,\n",
        "    'basket':2,\n",
        "    'book':3\n",
        "}\n",
        "doodle_dict={\n",
        "    'apple':apple,\n",
        "    'banana':banana,\n",
        "    'basket':basket,\n",
        "    'book':book\n",
        "}"
      ]
    },
    {
      "cell_type": "code",
      "execution_count": 4,
      "metadata": {
        "id": "bvATc7DWTyv7"
      },
      "outputs": [],
      "source": [
        "X=[]\n",
        "y=[]\n",
        "for label, doodles in doodle_dict.items():\n",
        "  for d in doodles:\n",
        "    X.append(d)\n",
        "    y.append(label_dict[label])\n"
      ]
    },
    {
      "cell_type": "code",
      "execution_count": 5,
      "metadata": {
        "id": "QjgEV5xHUXJw"
      },
      "outputs": [],
      "source": [
        "X=np.array(X)\n",
        "y=np.array(y)"
      ]
    },
    {
      "cell_type": "code",
      "execution_count": 6,
      "metadata": {
        "colab": {
          "base_uri": "https://localhost:8080/"
        },
        "id": "fS3l6JIwUiOU",
        "outputId": "3972564b-9d08-4400-9bd8-1a248f2a6fc9"
      },
      "outputs": [
        {
          "output_type": "execute_result",
          "data": {
            "text/plain": [
              "(1600, 784)"
            ]
          },
          "metadata": {},
          "execution_count": 6
        }
      ],
      "source": [
        "X.shape"
      ]
    },
    {
      "cell_type": "code",
      "execution_count": 7,
      "metadata": {
        "id": "mq3N8pIyUoa4"
      },
      "outputs": [],
      "source": [
        "from sklearn.model_selection import train_test_split\n",
        "xtrain,xtest,ytrain,ytest=train_test_split(X,y, test_size=0.15, random_state=20, stratify=y)"
      ]
    },
    {
      "cell_type": "code",
      "execution_count": 8,
      "metadata": {
        "colab": {
          "base_uri": "https://localhost:8080/"
        },
        "id": "xHj1k6f1VHZX",
        "outputId": "89c3a83f-b5d3-4b2a-d92c-aa5453e9e177"
      },
      "outputs": [
        {
          "output_type": "execute_result",
          "data": {
            "text/plain": [
              "((1360, 784), (240, 784))"
            ]
          },
          "metadata": {},
          "execution_count": 8
        }
      ],
      "source": [
        "xtrain.shape,xtest.shape"
      ]
    },
    {
      "cell_type": "code",
      "execution_count": 9,
      "metadata": {
        "colab": {
          "base_uri": "https://localhost:8080/"
        },
        "id": "iJ1fWLdtaVYg",
        "outputId": "a277ede8-650f-4c20-c5c2-1e6849489f2c"
      },
      "outputs": [
        {
          "output_type": "execute_result",
          "data": {
            "text/plain": [
              "(1360,)"
            ]
          },
          "metadata": {},
          "execution_count": 9
        }
      ],
      "source": [
        "ytrain.shape"
      ]
    },
    {
      "cell_type": "code",
      "execution_count": 10,
      "metadata": {
        "id": "SLPe6pL9VLaB"
      },
      "outputs": [],
      "source": [
        "Xtrain=xtrain/255\n",
        "Xtest=xtest/255"
      ]
    },
    {
      "cell_type": "code",
      "execution_count": 11,
      "metadata": {
        "id": "ifjh2jaMVY_Y"
      },
      "outputs": [],
      "source": [
        "import tensorflow as tf\n",
        "from tensorflow.keras import models, layers, Sequential"
      ]
    },
    {
      "cell_type": "code",
      "execution_count": 12,
      "metadata": {
        "colab": {
          "base_uri": "https://localhost:8080/"
        },
        "id": "fU9lSJk1VlsG",
        "outputId": "a30905cc-9ddb-421a-95db-1121e93646ed"
      },
      "outputs": [
        {
          "output_type": "stream",
          "name": "stdout",
          "text": [
            "Model: \"sequential\"\n",
            "_________________________________________________________________\n",
            " Layer (type)                Output Shape              Param #   \n",
            "=================================================================\n",
            " dense (Dense)               (None, 256)               200960    \n",
            "                                                                 \n",
            " dropout (Dropout)           (None, 256)               0         \n",
            "                                                                 \n",
            " dense_1 (Dense)             (None, 4)                 1028      \n",
            "                                                                 \n",
            "=================================================================\n",
            "Total params: 201988 (789.02 KB)\n",
            "Trainable params: 201988 (789.02 KB)\n",
            "Non-trainable params: 0 (0.00 Byte)\n",
            "_________________________________________________________________\n"
          ]
        }
      ],
      "source": [
        "doodle_model=Sequential([\n",
        "    tf.keras.layers.Dense(256, activation='relu', input_shape=(784,)),\n",
        "    tf.keras.layers.Dropout(0.5),\n",
        "    tf.keras.layers.Dense(4, activation='sigmoid')\n",
        "])\n",
        "\n",
        "doodle_model.compile(\n",
        "    optimizer='adam',\n",
        "    loss='categorical_crossentropy',\n",
        "    metrics=['accuracy']\n",
        ")\n",
        "doodle_model.summary()"
      ]
    },
    {
      "cell_type": "code",
      "execution_count": 13,
      "metadata": {
        "id": "IiY_JkWlYUlR"
      },
      "outputs": [],
      "source": [
        "from keras.utils import to_categorical\n",
        "ytrain = to_categorical(ytrain, num_classes=4)"
      ]
    },
    {
      "cell_type": "code",
      "execution_count": 14,
      "metadata": {
        "colab": {
          "base_uri": "https://localhost:8080/"
        },
        "id": "LM93BNCOX0q-",
        "outputId": "a0667b15-33da-460e-f227-55bed669c515"
      },
      "outputs": [
        {
          "output_type": "stream",
          "name": "stdout",
          "text": [
            "Epoch 1/100\n",
            "43/43 [==============================] - 4s 4ms/step - loss: 0.8641 - accuracy: 0.6507\n",
            "Epoch 2/100\n",
            "43/43 [==============================] - 0s 3ms/step - loss: 0.4862 - accuracy: 0.8412\n",
            "Epoch 3/100\n",
            "43/43 [==============================] - 0s 3ms/step - loss: 0.3780 - accuracy: 0.8831\n",
            "Epoch 4/100\n",
            "43/43 [==============================] - 0s 3ms/step - loss: 0.2900 - accuracy: 0.9140\n",
            "Epoch 5/100\n",
            "43/43 [==============================] - 0s 3ms/step - loss: 0.2449 - accuracy: 0.9199\n",
            "Epoch 6/100\n",
            "43/43 [==============================] - 0s 3ms/step - loss: 0.2001 - accuracy: 0.9449\n",
            "Epoch 7/100\n",
            "43/43 [==============================] - 0s 3ms/step - loss: 0.1694 - accuracy: 0.9529\n",
            "Epoch 8/100\n",
            "43/43 [==============================] - 0s 3ms/step - loss: 0.1383 - accuracy: 0.9676\n",
            "Epoch 9/100\n",
            "43/43 [==============================] - 0s 3ms/step - loss: 0.1191 - accuracy: 0.9721\n",
            "Epoch 10/100\n",
            "43/43 [==============================] - 0s 3ms/step - loss: 0.1130 - accuracy: 0.9684\n",
            "Epoch 11/100\n",
            "43/43 [==============================] - 0s 3ms/step - loss: 0.0881 - accuracy: 0.9816\n",
            "Epoch 12/100\n",
            "43/43 [==============================] - 0s 3ms/step - loss: 0.0800 - accuracy: 0.9816\n",
            "Epoch 13/100\n",
            "43/43 [==============================] - 0s 3ms/step - loss: 0.0666 - accuracy: 0.9868\n",
            "Epoch 14/100\n",
            "43/43 [==============================] - 0s 3ms/step - loss: 0.0612 - accuracy: 0.9875\n",
            "Epoch 15/100\n",
            "43/43 [==============================] - 0s 3ms/step - loss: 0.0463 - accuracy: 0.9926\n",
            "Epoch 16/100\n",
            "43/43 [==============================] - 0s 3ms/step - loss: 0.0446 - accuracy: 0.9897\n",
            "Epoch 17/100\n",
            "43/43 [==============================] - 0s 3ms/step - loss: 0.0411 - accuracy: 0.9926\n",
            "Epoch 18/100\n",
            "43/43 [==============================] - 0s 3ms/step - loss: 0.0373 - accuracy: 0.9904\n",
            "Epoch 19/100\n",
            "43/43 [==============================] - 0s 3ms/step - loss: 0.0309 - accuracy: 0.9949\n",
            "Epoch 20/100\n",
            "43/43 [==============================] - 0s 3ms/step - loss: 0.0317 - accuracy: 0.9941\n",
            "Epoch 21/100\n",
            "43/43 [==============================] - 0s 3ms/step - loss: 0.0265 - accuracy: 0.9963\n",
            "Epoch 22/100\n",
            "43/43 [==============================] - 0s 3ms/step - loss: 0.0290 - accuracy: 0.9934\n",
            "Epoch 23/100\n",
            "43/43 [==============================] - 0s 3ms/step - loss: 0.0230 - accuracy: 0.9963\n",
            "Epoch 24/100\n",
            "43/43 [==============================] - 0s 3ms/step - loss: 0.0165 - accuracy: 0.9978\n",
            "Epoch 25/100\n",
            "43/43 [==============================] - 0s 3ms/step - loss: 0.0201 - accuracy: 0.9978\n",
            "Epoch 26/100\n",
            "43/43 [==============================] - 0s 3ms/step - loss: 0.0185 - accuracy: 0.9971\n",
            "Epoch 27/100\n",
            "43/43 [==============================] - 0s 3ms/step - loss: 0.0210 - accuracy: 0.9971\n",
            "Epoch 28/100\n",
            "43/43 [==============================] - 0s 3ms/step - loss: 0.0200 - accuracy: 0.9956\n",
            "Epoch 29/100\n",
            "43/43 [==============================] - 0s 3ms/step - loss: 0.0179 - accuracy: 0.9971\n",
            "Epoch 30/100\n",
            "43/43 [==============================] - 0s 3ms/step - loss: 0.0150 - accuracy: 0.9985\n",
            "Epoch 31/100\n",
            "43/43 [==============================] - 0s 3ms/step - loss: 0.0125 - accuracy: 0.9985\n",
            "Epoch 32/100\n",
            "43/43 [==============================] - 0s 3ms/step - loss: 0.0184 - accuracy: 0.9956\n",
            "Epoch 33/100\n",
            "43/43 [==============================] - 0s 3ms/step - loss: 0.0178 - accuracy: 0.9971\n",
            "Epoch 34/100\n",
            "43/43 [==============================] - 0s 3ms/step - loss: 0.0113 - accuracy: 0.9985\n",
            "Epoch 35/100\n",
            "43/43 [==============================] - 0s 3ms/step - loss: 0.0126 - accuracy: 0.9971\n",
            "Epoch 36/100\n",
            "43/43 [==============================] - 0s 3ms/step - loss: 0.0167 - accuracy: 0.9963\n",
            "Epoch 37/100\n",
            "43/43 [==============================] - 0s 3ms/step - loss: 0.0112 - accuracy: 0.9985\n",
            "Epoch 38/100\n",
            "43/43 [==============================] - 0s 3ms/step - loss: 0.0104 - accuracy: 0.9993\n",
            "Epoch 39/100\n",
            "43/43 [==============================] - 0s 5ms/step - loss: 0.0057 - accuracy: 1.0000\n",
            "Epoch 40/100\n",
            "43/43 [==============================] - 0s 4ms/step - loss: 0.0101 - accuracy: 0.9978\n",
            "Epoch 41/100\n",
            "43/43 [==============================] - 0s 4ms/step - loss: 0.0074 - accuracy: 1.0000\n",
            "Epoch 42/100\n",
            "43/43 [==============================] - 0s 4ms/step - loss: 0.0079 - accuracy: 0.9993\n",
            "Epoch 43/100\n",
            "43/43 [==============================] - 0s 4ms/step - loss: 0.0077 - accuracy: 0.9978\n",
            "Epoch 44/100\n",
            "43/43 [==============================] - 0s 4ms/step - loss: 0.0081 - accuracy: 0.9993\n",
            "Epoch 45/100\n",
            "43/43 [==============================] - 0s 4ms/step - loss: 0.0065 - accuracy: 0.9985\n",
            "Epoch 46/100\n",
            "43/43 [==============================] - 0s 4ms/step - loss: 0.0104 - accuracy: 0.9993\n",
            "Epoch 47/100\n",
            "43/43 [==============================] - 0s 4ms/step - loss: 0.0105 - accuracy: 0.9985\n",
            "Epoch 48/100\n",
            "43/43 [==============================] - 0s 4ms/step - loss: 0.0087 - accuracy: 1.0000\n",
            "Epoch 49/100\n",
            "43/43 [==============================] - 0s 4ms/step - loss: 0.0087 - accuracy: 0.9993\n",
            "Epoch 50/100\n",
            "43/43 [==============================] - 0s 4ms/step - loss: 0.0082 - accuracy: 0.9993\n",
            "Epoch 51/100\n",
            "43/43 [==============================] - 0s 4ms/step - loss: 0.0089 - accuracy: 1.0000\n",
            "Epoch 52/100\n",
            "43/43 [==============================] - 0s 4ms/step - loss: 0.0082 - accuracy: 0.9993\n",
            "Epoch 53/100\n",
            "43/43 [==============================] - 0s 4ms/step - loss: 0.0072 - accuracy: 0.9993\n",
            "Epoch 54/100\n",
            "43/43 [==============================] - 0s 4ms/step - loss: 0.0071 - accuracy: 0.9971\n",
            "Epoch 55/100\n",
            "43/43 [==============================] - 0s 3ms/step - loss: 0.0077 - accuracy: 0.9985\n",
            "Epoch 56/100\n",
            "43/43 [==============================] - 0s 3ms/step - loss: 0.0080 - accuracy: 0.9993\n",
            "Epoch 57/100\n",
            "43/43 [==============================] - 0s 3ms/step - loss: 0.0057 - accuracy: 0.9993\n",
            "Epoch 58/100\n",
            "43/43 [==============================] - 0s 3ms/step - loss: 0.0030 - accuracy: 1.0000\n",
            "Epoch 59/100\n",
            "43/43 [==============================] - 0s 3ms/step - loss: 0.0055 - accuracy: 0.9985\n",
            "Epoch 60/100\n",
            "43/43 [==============================] - 0s 3ms/step - loss: 0.0051 - accuracy: 1.0000\n",
            "Epoch 61/100\n",
            "43/43 [==============================] - 0s 3ms/step - loss: 0.0065 - accuracy: 0.9985\n",
            "Epoch 62/100\n",
            "43/43 [==============================] - 0s 3ms/step - loss: 0.0105 - accuracy: 0.9971\n",
            "Epoch 63/100\n",
            "43/43 [==============================] - 0s 3ms/step - loss: 0.0173 - accuracy: 0.9949\n",
            "Epoch 64/100\n",
            "43/43 [==============================] - 0s 3ms/step - loss: 0.0121 - accuracy: 0.9978\n",
            "Epoch 65/100\n",
            "43/43 [==============================] - 0s 3ms/step - loss: 0.0104 - accuracy: 0.9963\n",
            "Epoch 66/100\n",
            "43/43 [==============================] - 0s 3ms/step - loss: 0.0060 - accuracy: 1.0000\n",
            "Epoch 67/100\n",
            "43/43 [==============================] - 0s 3ms/step - loss: 0.0042 - accuracy: 1.0000\n",
            "Epoch 68/100\n",
            "43/43 [==============================] - 0s 3ms/step - loss: 0.0043 - accuracy: 0.9993\n",
            "Epoch 69/100\n",
            "43/43 [==============================] - 0s 3ms/step - loss: 0.0043 - accuracy: 0.9993\n",
            "Epoch 70/100\n",
            "43/43 [==============================] - 0s 3ms/step - loss: 0.0053 - accuracy: 0.9993\n",
            "Epoch 71/100\n",
            "43/43 [==============================] - 0s 3ms/step - loss: 0.0060 - accuracy: 0.9993\n",
            "Epoch 72/100\n",
            "43/43 [==============================] - 0s 3ms/step - loss: 0.0076 - accuracy: 0.9971\n",
            "Epoch 73/100\n",
            "43/43 [==============================] - 0s 3ms/step - loss: 0.0070 - accuracy: 0.9985\n",
            "Epoch 74/100\n",
            "43/43 [==============================] - 0s 3ms/step - loss: 0.0060 - accuracy: 0.9993\n",
            "Epoch 75/100\n",
            "43/43 [==============================] - 0s 3ms/step - loss: 0.0028 - accuracy: 1.0000\n",
            "Epoch 76/100\n",
            "43/43 [==============================] - 0s 3ms/step - loss: 0.0035 - accuracy: 1.0000\n",
            "Epoch 77/100\n",
            "43/43 [==============================] - 0s 3ms/step - loss: 0.0058 - accuracy: 0.9978\n",
            "Epoch 78/100\n",
            "43/43 [==============================] - 0s 3ms/step - loss: 0.0083 - accuracy: 0.9985\n",
            "Epoch 79/100\n",
            "43/43 [==============================] - 0s 3ms/step - loss: 0.0028 - accuracy: 0.9993\n",
            "Epoch 80/100\n",
            "43/43 [==============================] - 0s 3ms/step - loss: 0.0023 - accuracy: 1.0000\n",
            "Epoch 81/100\n",
            "43/43 [==============================] - 0s 3ms/step - loss: 0.0021 - accuracy: 1.0000\n",
            "Epoch 82/100\n",
            "43/43 [==============================] - 0s 3ms/step - loss: 0.0024 - accuracy: 0.9993\n",
            "Epoch 83/100\n",
            "43/43 [==============================] - 0s 3ms/step - loss: 0.0037 - accuracy: 0.9993\n",
            "Epoch 84/100\n",
            "43/43 [==============================] - 0s 3ms/step - loss: 0.0041 - accuracy: 0.9993\n",
            "Epoch 85/100\n",
            "43/43 [==============================] - 0s 3ms/step - loss: 0.0078 - accuracy: 0.9978\n",
            "Epoch 86/100\n",
            "43/43 [==============================] - 0s 3ms/step - loss: 0.0086 - accuracy: 0.9963\n",
            "Epoch 87/100\n",
            "43/43 [==============================] - 0s 3ms/step - loss: 0.0288 - accuracy: 0.9882\n",
            "Epoch 88/100\n",
            "43/43 [==============================] - 0s 3ms/step - loss: 0.0308 - accuracy: 0.9912\n",
            "Epoch 89/100\n",
            "43/43 [==============================] - 0s 3ms/step - loss: 0.0161 - accuracy: 0.9934\n",
            "Epoch 90/100\n",
            "43/43 [==============================] - 0s 3ms/step - loss: 0.0067 - accuracy: 1.0000\n",
            "Epoch 91/100\n",
            "43/43 [==============================] - 0s 3ms/step - loss: 0.0160 - accuracy: 0.9949\n",
            "Epoch 92/100\n",
            "43/43 [==============================] - 0s 3ms/step - loss: 0.0153 - accuracy: 0.9941\n",
            "Epoch 93/100\n",
            "43/43 [==============================] - 0s 3ms/step - loss: 0.0140 - accuracy: 0.9956\n",
            "Epoch 94/100\n",
            "43/43 [==============================] - 0s 3ms/step - loss: 0.0066 - accuracy: 0.9993\n",
            "Epoch 95/100\n",
            "43/43 [==============================] - 0s 3ms/step - loss: 0.0052 - accuracy: 0.9993\n",
            "Epoch 96/100\n",
            "43/43 [==============================] - 0s 3ms/step - loss: 0.0054 - accuracy: 0.9985\n",
            "Epoch 97/100\n",
            "43/43 [==============================] - 0s 3ms/step - loss: 0.0086 - accuracy: 0.9963\n",
            "Epoch 98/100\n",
            "43/43 [==============================] - 0s 3ms/step - loss: 0.0057 - accuracy: 0.9978\n",
            "Epoch 99/100\n",
            "43/43 [==============================] - 0s 3ms/step - loss: 0.0044 - accuracy: 0.9993\n",
            "Epoch 100/100\n",
            "43/43 [==============================] - 0s 3ms/step - loss: 0.0109 - accuracy: 0.9956\n"
          ]
        },
        {
          "output_type": "execute_result",
          "data": {
            "text/plain": [
              "<keras.src.callbacks.History at 0x7a30428df670>"
            ]
          },
          "metadata": {},
          "execution_count": 14
        }
      ],
      "source": [
        "doodle_model.fit(Xtrain,ytrain, epochs=100)"
      ]
    },
    {
      "cell_type": "code",
      "execution_count": 15,
      "metadata": {
        "id": "X-66-wgwYCMU"
      },
      "outputs": [],
      "source": [
        "ytest = to_categorical(ytest, num_classes=4)"
      ]
    },
    {
      "cell_type": "code",
      "source": [
        "doodle_model.evaluate(Xtest,ytest)"
      ],
      "metadata": {
        "colab": {
          "base_uri": "https://localhost:8080/"
        },
        "id": "NFEKpS45e_DL",
        "outputId": "ceee66b5-3434-469f-b039-b6dbccc4e0c0"
      },
      "execution_count": 16,
      "outputs": [
        {
          "output_type": "stream",
          "name": "stdout",
          "text": [
            "8/8 [==============================] - 0s 3ms/step - loss: 0.5145 - accuracy: 0.8875\n"
          ]
        },
        {
          "output_type": "execute_result",
          "data": {
            "text/plain": [
              "[0.5144760012626648, 0.887499988079071]"
            ]
          },
          "metadata": {},
          "execution_count": 16
        }
      ]
    },
    {
      "cell_type": "code",
      "source": [
        "predict=doodle_model.predict(Xtest[1].reshape(1,784))\n",
        "np.argmax(predict)"
      ],
      "metadata": {
        "colab": {
          "base_uri": "https://localhost:8080/"
        },
        "id": "aUPf66HjfG70",
        "outputId": "d7c48688-363d-4288-e9d9-113094cf0c47"
      },
      "execution_count": 46,
      "outputs": [
        {
          "output_type": "stream",
          "name": "stdout",
          "text": [
            "1/1 [==============================] - 0s 19ms/step\n"
          ]
        },
        {
          "output_type": "execute_result",
          "data": {
            "text/plain": [
              "2"
            ]
          },
          "metadata": {},
          "execution_count": 46
        }
      ]
    },
    {
      "cell_type": "code",
      "source": [
        "np.argmax(ytest[1])"
      ],
      "metadata": {
        "colab": {
          "base_uri": "https://localhost:8080/"
        },
        "id": "44Ql8JNQhWeP",
        "outputId": "138f322c-cd99-44d4-b09e-bc728f630838"
      },
      "execution_count": 47,
      "outputs": [
        {
          "output_type": "execute_result",
          "data": {
            "text/plain": [
              "2"
            ]
          },
          "metadata": {},
          "execution_count": 47
        }
      ]
    },
    {
      "cell_type": "code",
      "source": [],
      "metadata": {
        "id": "xYm3hVW2iyoO"
      },
      "execution_count": null,
      "outputs": []
    }
  ],
  "metadata": {
    "accelerator": "GPU",
    "colab": {
      "provenance": [],
      "authorship_tag": "ABX9TyNu6W99T+cy2EABpq2zFI3C",
      "include_colab_link": true
    },
    "kernelspec": {
      "display_name": "Python 3",
      "name": "python3"
    },
    "language_info": {
      "name": "python"
    }
  },
  "nbformat": 4,
  "nbformat_minor": 0
}